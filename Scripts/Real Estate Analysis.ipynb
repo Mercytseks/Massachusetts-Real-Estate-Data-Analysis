{
 "cells": [
  {
   "cell_type": "markdown",
   "id": "7bc83c69",
   "metadata": {},
   "source": [
    "### Table of content\n",
    "#### Importing libraries\n",
    "#### Importing data\n",
    "#### Data inspection\n",
    "#### Data cleaning\n",
    "#### Summmary statistics\n",
    "#### Exporting clean data"
   ]
  },
  {
   "cell_type": "markdown",
   "id": "bdee4617",
   "metadata": {},
   "source": [
    "### Importing libraries"
   ]
  },
  {
   "cell_type": "code",
   "execution_count": 1,
   "id": "09dde22e",
   "metadata": {},
   "outputs": [],
   "source": [
    "import pandas as pd\n",
    "import numpy as np\n",
    "import matplotlib.pyplot as plt\n",
    "import seaborn as sns\n",
    "import scipy\n",
    "import os"
   ]
  },
  {
   "cell_type": "markdown",
   "id": "18a15300",
   "metadata": {},
   "source": [
    "### Importing data"
   ]
  },
  {
   "cell_type": "code",
   "execution_count": 5,
   "id": "4994c437",
   "metadata": {},
   "outputs": [],
   "source": [
    "data = pd.read_csv(r\"C:\\Users\\tseki\\OneDrive\\Documents\\Careerfoundry\\Data immersion\\Achievement 6\\Data\\Original\\realtor-data.csv\")"
   ]
  },
  {
   "cell_type": "markdown",
   "id": "f7a1a63f",
   "metadata": {},
   "source": [
    "### Data inspection"
   ]
  },
  {
   "cell_type": "code",
   "execution_count": 6,
   "id": "1551ae96",
   "metadata": {},
   "outputs": [
    {
     "data": {
      "text/html": [
       "<div>\n",
       "<style scoped>\n",
       "    .dataframe tbody tr th:only-of-type {\n",
       "        vertical-align: middle;\n",
       "    }\n",
       "\n",
       "    .dataframe tbody tr th {\n",
       "        vertical-align: top;\n",
       "    }\n",
       "\n",
       "    .dataframe thead th {\n",
       "        text-align: right;\n",
       "    }\n",
       "</style>\n",
       "<table border=\"1\" class=\"dataframe\">\n",
       "  <thead>\n",
       "    <tr style=\"text-align: right;\">\n",
       "      <th></th>\n",
       "      <th>status</th>\n",
       "      <th>price</th>\n",
       "      <th>bed</th>\n",
       "      <th>bath</th>\n",
       "      <th>acre_lot</th>\n",
       "      <th>full_address</th>\n",
       "      <th>street</th>\n",
       "      <th>city</th>\n",
       "      <th>state</th>\n",
       "      <th>zip_code</th>\n",
       "      <th>house_size</th>\n",
       "      <th>sold_date</th>\n",
       "    </tr>\n",
       "  </thead>\n",
       "  <tbody>\n",
       "    <tr>\n",
       "      <th>0</th>\n",
       "      <td>for_sale</td>\n",
       "      <td>105000.0</td>\n",
       "      <td>3.0</td>\n",
       "      <td>2.0</td>\n",
       "      <td>0.12</td>\n",
       "      <td>Sector Yahuecas Titulo # V84, Adjuntas, PR, 00601</td>\n",
       "      <td>Sector Yahuecas Titulo # V84</td>\n",
       "      <td>Adjuntas</td>\n",
       "      <td>Puerto Rico</td>\n",
       "      <td>601.0</td>\n",
       "      <td>920.0</td>\n",
       "      <td>NaN</td>\n",
       "    </tr>\n",
       "    <tr>\n",
       "      <th>1</th>\n",
       "      <td>for_sale</td>\n",
       "      <td>80000.0</td>\n",
       "      <td>4.0</td>\n",
       "      <td>2.0</td>\n",
       "      <td>0.08</td>\n",
       "      <td>Km 78 9 Carr # 135, Adjuntas, PR, 00601</td>\n",
       "      <td>Km 78 9 Carr # 135</td>\n",
       "      <td>Adjuntas</td>\n",
       "      <td>Puerto Rico</td>\n",
       "      <td>601.0</td>\n",
       "      <td>1527.0</td>\n",
       "      <td>NaN</td>\n",
       "    </tr>\n",
       "    <tr>\n",
       "      <th>2</th>\n",
       "      <td>for_sale</td>\n",
       "      <td>67000.0</td>\n",
       "      <td>2.0</td>\n",
       "      <td>1.0</td>\n",
       "      <td>0.15</td>\n",
       "      <td>556G 556-G 16 St, Juana Diaz, PR, 00795</td>\n",
       "      <td>556G 556-G 16 St</td>\n",
       "      <td>Juana Diaz</td>\n",
       "      <td>Puerto Rico</td>\n",
       "      <td>795.0</td>\n",
       "      <td>748.0</td>\n",
       "      <td>NaN</td>\n",
       "    </tr>\n",
       "    <tr>\n",
       "      <th>3</th>\n",
       "      <td>for_sale</td>\n",
       "      <td>145000.0</td>\n",
       "      <td>4.0</td>\n",
       "      <td>2.0</td>\n",
       "      <td>0.10</td>\n",
       "      <td>R5 Comunidad El Paraso Calle De Oro R-5 Ponce,...</td>\n",
       "      <td>R5 Comunidad El Paraso Calle De Oro R-5 Ponce</td>\n",
       "      <td>Ponce</td>\n",
       "      <td>Puerto Rico</td>\n",
       "      <td>731.0</td>\n",
       "      <td>1800.0</td>\n",
       "      <td>NaN</td>\n",
       "    </tr>\n",
       "    <tr>\n",
       "      <th>4</th>\n",
       "      <td>for_sale</td>\n",
       "      <td>65000.0</td>\n",
       "      <td>6.0</td>\n",
       "      <td>2.0</td>\n",
       "      <td>0.05</td>\n",
       "      <td>14 Navarro, Mayaguez, PR, 00680</td>\n",
       "      <td>14 Navarro</td>\n",
       "      <td>Mayaguez</td>\n",
       "      <td>Puerto Rico</td>\n",
       "      <td>680.0</td>\n",
       "      <td>NaN</td>\n",
       "      <td>NaN</td>\n",
       "    </tr>\n",
       "  </tbody>\n",
       "</table>\n",
       "</div>"
      ],
      "text/plain": [
       "     status     price  bed  bath  acre_lot  \\\n",
       "0  for_sale  105000.0  3.0   2.0      0.12   \n",
       "1  for_sale   80000.0  4.0   2.0      0.08   \n",
       "2  for_sale   67000.0  2.0   1.0      0.15   \n",
       "3  for_sale  145000.0  4.0   2.0      0.10   \n",
       "4  for_sale   65000.0  6.0   2.0      0.05   \n",
       "\n",
       "                                        full_address  \\\n",
       "0  Sector Yahuecas Titulo # V84, Adjuntas, PR, 00601   \n",
       "1            Km 78 9 Carr # 135, Adjuntas, PR, 00601   \n",
       "2            556G 556-G 16 St, Juana Diaz, PR, 00795   \n",
       "3  R5 Comunidad El Paraso Calle De Oro R-5 Ponce,...   \n",
       "4                    14 Navarro, Mayaguez, PR, 00680   \n",
       "\n",
       "                                          street        city        state  \\\n",
       "0                   Sector Yahuecas Titulo # V84    Adjuntas  Puerto Rico   \n",
       "1                             Km 78 9 Carr # 135    Adjuntas  Puerto Rico   \n",
       "2                               556G 556-G 16 St  Juana Diaz  Puerto Rico   \n",
       "3  R5 Comunidad El Paraso Calle De Oro R-5 Ponce       Ponce  Puerto Rico   \n",
       "4                                     14 Navarro    Mayaguez  Puerto Rico   \n",
       "\n",
       "   zip_code  house_size sold_date  \n",
       "0     601.0       920.0       NaN  \n",
       "1     601.0      1527.0       NaN  \n",
       "2     795.0       748.0       NaN  \n",
       "3     731.0      1800.0       NaN  \n",
       "4     680.0         NaN       NaN  "
      ]
     },
     "execution_count": 6,
     "metadata": {},
     "output_type": "execute_result"
    }
   ],
   "source": [
    "data.head()"
   ]
  },
  {
   "cell_type": "code",
   "execution_count": 8,
   "id": "b8f81d96",
   "metadata": {},
   "outputs": [
    {
     "data": {
      "text/plain": [
       "(923159, 12)"
      ]
     },
     "execution_count": 8,
     "metadata": {},
     "output_type": "execute_result"
    }
   ],
   "source": [
    "data.shape"
   ]
  },
  {
   "cell_type": "code",
   "execution_count": 24,
   "id": "b8a6bcf9",
   "metadata": {},
   "outputs": [
    {
     "name": "stdout",
     "output_type": "stream",
     "text": [
      "<class 'pandas.core.frame.DataFrame'>\n",
      "RangeIndex: 923159 entries, 0 to 923158\n",
      "Data columns (total 12 columns):\n",
      " #   Column        Non-Null Count   Dtype  \n",
      "---  ------        --------------   -----  \n",
      " 0   status        923159 non-null  object \n",
      " 1   price         923088 non-null  float64\n",
      " 2   bed           791456 non-null  float64\n",
      " 3   bath          807967 non-null  float64\n",
      " 4   acre_lot      649536 non-null  float64\n",
      " 5   full_address  923159 non-null  object \n",
      " 6   street        921021 non-null  object \n",
      " 7   city          923085 non-null  object \n",
      " 8   state         923159 non-null  object \n",
      " 9   zip_code      922954 non-null  float64\n",
      " 10  house_size    625316 non-null  float64\n",
      " 11  sold_date     456396 non-null  object \n",
      "dtypes: float64(6), object(6)\n",
      "memory usage: 84.5+ MB\n"
     ]
    }
   ],
   "source": [
    "data.info()"
   ]
  },
  {
   "cell_type": "code",
   "execution_count": 9,
   "id": "df6034be",
   "metadata": {},
   "outputs": [
    {
     "data": {
      "text/plain": [
       "New Jersey        233722\n",
       "New York          211778\n",
       "Massachusetts     175248\n",
       "Connecticut        91644\n",
       "New Hampshire      51394\n",
       "Vermont            46460\n",
       "Maine              36650\n",
       "Rhode Island       29596\n",
       "Puerto Rico        24679\n",
       "Pennsylvania       17148\n",
       "Virgin Islands      2573\n",
       "Delaware            2135\n",
       "Georgia               50\n",
       "Virginia              31\n",
       "South Carolina        25\n",
       "Tennessee             20\n",
       "Wyoming                3\n",
       "West Virginia          3\n",
       "Name: state, dtype: int64"
      ]
     },
     "execution_count": 9,
     "metadata": {},
     "output_type": "execute_result"
    }
   ],
   "source": [
    "# I am interested only in Massachusetts data\n",
    "# I will check value count of states to see if there are multiple representation of Massachusetts\n",
    "\n",
    "data['state'].value_counts(dropna = False)"
   ]
  },
  {
   "cell_type": "code",
   "execution_count": 10,
   "id": "ee6b1158",
   "metadata": {},
   "outputs": [],
   "source": [
    "# I will select only Massachusetts data and assign it to a new dataframe\n",
    "\n",
    "MA_data = data[data['state']=='Massachusetts']"
   ]
  },
  {
   "cell_type": "code",
   "execution_count": 11,
   "id": "43c4b647",
   "metadata": {},
   "outputs": [
    {
     "data": {
      "text/plain": [
       "(175248, 12)"
      ]
     },
     "execution_count": 11,
     "metadata": {},
     "output_type": "execute_result"
    }
   ],
   "source": [
    "# Checking shape\n",
    "MA_data.shape"
   ]
  },
  {
   "cell_type": "code",
   "execution_count": 12,
   "id": "f22fc460",
   "metadata": {},
   "outputs": [
    {
     "data": {
      "text/plain": [
       "3.0     44396\n",
       "2.0     38135\n",
       "4.0     28003\n",
       "NaN     26108\n",
       "1.0     11814\n",
       "5.0     10636\n",
       "6.0      6632\n",
       "7.0      2308\n",
       "8.0      2103\n",
       "9.0      1845\n",
       "12.0      913\n",
       "10.0      654\n",
       "11.0      507\n",
       "15.0      202\n",
       "14.0      123\n",
       "18.0      117\n",
       "13.0      108\n",
       "19.0       86\n",
       "20.0       86\n",
       "16.0       86\n",
       "24.0       72\n",
       "17.0       67\n",
       "22.0       46\n",
       "28.0       35\n",
       "42.0       28\n",
       "60.0       27\n",
       "99.0       23\n",
       "86.0       21\n",
       "32.0       21\n",
       "31.0       17\n",
       "33.0       10\n",
       "21.0        8\n",
       "49.0        8\n",
       "27.0        3\n",
       "Name: bed, dtype: int64"
      ]
     },
     "execution_count": 12,
     "metadata": {},
     "output_type": "execute_result"
    }
   ],
   "source": [
    "# Checking value counts of bed\n",
    "MA_data['bed'].value_counts(dropna = False)"
   ]
  },
  {
   "cell_type": "code",
   "execution_count": 13,
   "id": "a3b59238",
   "metadata": {},
   "outputs": [],
   "source": [
    "# i am only interested in properties with less than 16 bedrooms\n",
    "MA_data = MA_data[MA_data['bed'] <= 15]"
   ]
  },
  {
   "cell_type": "code",
   "execution_count": 14,
   "id": "bbe174fb",
   "metadata": {},
   "outputs": [
    {
     "data": {
      "text/plain": [
       "(148379, 12)"
      ]
     },
     "execution_count": 14,
     "metadata": {},
     "output_type": "execute_result"
    }
   ],
   "source": [
    "# Checking shapee\n",
    "MA_data.shape"
   ]
  },
  {
   "cell_type": "markdown",
   "id": "7f4ede0d",
   "metadata": {},
   "source": [
    "### Data cleaning"
   ]
  },
  {
   "cell_type": "code",
   "execution_count": 16,
   "id": "66ee1f49",
   "metadata": {},
   "outputs": [
    {
     "data": {
      "text/plain": [
       "139926"
      ]
     },
     "execution_count": 16,
     "metadata": {},
     "output_type": "execute_result"
    }
   ],
   "source": [
    "# checking for duplicates\n",
    "\n",
    "MA_data.duplicated().sum()"
   ]
  },
  {
   "cell_type": "code",
   "execution_count": 17,
   "id": "1a91cd95",
   "metadata": {},
   "outputs": [],
   "source": [
    "# There are many duplicate records, we would remove them.\n",
    "\n",
    "MA_data.drop_duplicates(inplace=True)"
   ]
  },
  {
   "cell_type": "code",
   "execution_count": 18,
   "id": "edc0df0c",
   "metadata": {},
   "outputs": [
    {
     "data": {
      "text/plain": [
       "(8453, 12)"
      ]
     },
     "execution_count": 18,
     "metadata": {},
     "output_type": "execute_result"
    }
   ],
   "source": [
    "# Checking shape\n",
    "\n",
    "MA_data.shape"
   ]
  },
  {
   "cell_type": "code",
   "execution_count": 19,
   "id": "23321e47",
   "metadata": {},
   "outputs": [
    {
     "data": {
      "text/plain": [
       "for_sale          8412\n",
       "ready_to_build      41\n",
       "Name: status, dtype: int64"
      ]
     },
     "execution_count": 19,
     "metadata": {},
     "output_type": "execute_result"
    }
   ],
   "source": [
    "MA_data['status'].value_counts(dropna = False)"
   ]
  },
  {
   "cell_type": "code",
   "execution_count": 21,
   "id": "015c630d",
   "metadata": {},
   "outputs": [
    {
     "data": {
      "text/html": [
       "<div>\n",
       "<style scoped>\n",
       "    .dataframe tbody tr th:only-of-type {\n",
       "        vertical-align: middle;\n",
       "    }\n",
       "\n",
       "    .dataframe tbody tr th {\n",
       "        vertical-align: top;\n",
       "    }\n",
       "\n",
       "    .dataframe thead th {\n",
       "        text-align: right;\n",
       "    }\n",
       "</style>\n",
       "<table border=\"1\" class=\"dataframe\">\n",
       "  <thead>\n",
       "    <tr style=\"text-align: right;\">\n",
       "      <th></th>\n",
       "      <th>status</th>\n",
       "      <th>price</th>\n",
       "      <th>bed</th>\n",
       "      <th>bath</th>\n",
       "      <th>acre_lot</th>\n",
       "      <th>full_address</th>\n",
       "      <th>street</th>\n",
       "      <th>city</th>\n",
       "      <th>state</th>\n",
       "      <th>zip_code</th>\n",
       "      <th>house_size</th>\n",
       "      <th>sold_date</th>\n",
       "    </tr>\n",
       "  </thead>\n",
       "  <tbody>\n",
       "    <tr>\n",
       "      <th>220455</th>\n",
       "      <td>for_sale</td>\n",
       "      <td>2900000.0</td>\n",
       "      <td>5.0</td>\n",
       "      <td>4.0</td>\n",
       "      <td>4.20</td>\n",
       "      <td>564 River Rd, Westport, MA, 02790</td>\n",
       "      <td>564 River Rd</td>\n",
       "      <td>Westport</td>\n",
       "      <td>Massachusetts</td>\n",
       "      <td>2790.0</td>\n",
       "      <td>3740.0</td>\n",
       "      <td>NaN</td>\n",
       "    </tr>\n",
       "    <tr>\n",
       "      <th>220505</th>\n",
       "      <td>for_sale</td>\n",
       "      <td>450000.0</td>\n",
       "      <td>3.0</td>\n",
       "      <td>3.0</td>\n",
       "      <td>0.33</td>\n",
       "      <td>419 Olney St, Seekonk, MA, 02771</td>\n",
       "      <td>419 Olney St</td>\n",
       "      <td>Seekonk</td>\n",
       "      <td>Massachusetts</td>\n",
       "      <td>2771.0</td>\n",
       "      <td>1782.0</td>\n",
       "      <td>1999-12-13</td>\n",
       "    </tr>\n",
       "    <tr>\n",
       "      <th>227070</th>\n",
       "      <td>for_sale</td>\n",
       "      <td>560000.0</td>\n",
       "      <td>4.0</td>\n",
       "      <td>2.0</td>\n",
       "      <td>0.20</td>\n",
       "      <td>54 Plainfield Ave, Shrewsbury, MA, 01545</td>\n",
       "      <td>54 Plainfield Ave</td>\n",
       "      <td>Shrewsbury</td>\n",
       "      <td>Massachusetts</td>\n",
       "      <td>1545.0</td>\n",
       "      <td>2640.0</td>\n",
       "      <td>1998-09-28</td>\n",
       "    </tr>\n",
       "    <tr>\n",
       "      <th>233354</th>\n",
       "      <td>for_sale</td>\n",
       "      <td>650000.0</td>\n",
       "      <td>6.0</td>\n",
       "      <td>4.0</td>\n",
       "      <td>0.15</td>\n",
       "      <td>12 Cedar Dr, Webster, MA, 01570</td>\n",
       "      <td>12 Cedar Dr</td>\n",
       "      <td>Webster</td>\n",
       "      <td>Massachusetts</td>\n",
       "      <td>1570.0</td>\n",
       "      <td>4012.0</td>\n",
       "      <td>1988-08-12</td>\n",
       "    </tr>\n",
       "    <tr>\n",
       "      <th>339024</th>\n",
       "      <td>for_sale</td>\n",
       "      <td>175000.0</td>\n",
       "      <td>4.0</td>\n",
       "      <td>1.0</td>\n",
       "      <td>0.48</td>\n",
       "      <td>560 Country Club Rd, Greenfield, MA, 01301</td>\n",
       "      <td>560 Country Club Rd</td>\n",
       "      <td>Greenfield</td>\n",
       "      <td>Massachusetts</td>\n",
       "      <td>1301.0</td>\n",
       "      <td>1163.0</td>\n",
       "      <td>NaN</td>\n",
       "    </tr>\n",
       "    <tr>\n",
       "      <th>341449</th>\n",
       "      <td>for_sale</td>\n",
       "      <td>380000.0</td>\n",
       "      <td>3.0</td>\n",
       "      <td>2.0</td>\n",
       "      <td>0.21</td>\n",
       "      <td>74 Pondview Dr, Chicopee, MA, 01020</td>\n",
       "      <td>74 Pondview Dr</td>\n",
       "      <td>Chicopee</td>\n",
       "      <td>Massachusetts</td>\n",
       "      <td>1020.0</td>\n",
       "      <td>1336.0</td>\n",
       "      <td>2006-03-10</td>\n",
       "    </tr>\n",
       "    <tr>\n",
       "      <th>418268</th>\n",
       "      <td>for_sale</td>\n",
       "      <td>374900.0</td>\n",
       "      <td>3.0</td>\n",
       "      <td>1.0</td>\n",
       "      <td>0.27</td>\n",
       "      <td>16 Lancaster St, Auburn, MA, 01501</td>\n",
       "      <td>16 Lancaster St</td>\n",
       "      <td>Auburn</td>\n",
       "      <td>Massachusetts</td>\n",
       "      <td>1501.0</td>\n",
       "      <td>1098.0</td>\n",
       "      <td>NaN</td>\n",
       "    </tr>\n",
       "    <tr>\n",
       "      <th>418274</th>\n",
       "      <td>for_sale</td>\n",
       "      <td>499000.0</td>\n",
       "      <td>6.0</td>\n",
       "      <td>6.0</td>\n",
       "      <td>0.14</td>\n",
       "      <td>26 Old West Brookfield Rd, Warren, MA, 01083</td>\n",
       "      <td>26 Old West Brookfield Rd</td>\n",
       "      <td>Warren</td>\n",
       "      <td>Massachusetts</td>\n",
       "      <td>1083.0</td>\n",
       "      <td>3240.0</td>\n",
       "      <td>NaN</td>\n",
       "    </tr>\n",
       "    <tr>\n",
       "      <th>424916</th>\n",
       "      <td>for_sale</td>\n",
       "      <td>399900.0</td>\n",
       "      <td>4.0</td>\n",
       "      <td>3.0</td>\n",
       "      <td>0.43</td>\n",
       "      <td>24 N Main St, West Brookfield, MA, 01585</td>\n",
       "      <td>24 N Main St</td>\n",
       "      <td>West Brookfield</td>\n",
       "      <td>Massachusetts</td>\n",
       "      <td>1585.0</td>\n",
       "      <td>2968.0</td>\n",
       "      <td>2006-07-12</td>\n",
       "    </tr>\n",
       "    <tr>\n",
       "      <th>424923</th>\n",
       "      <td>for_sale</td>\n",
       "      <td>339900.0</td>\n",
       "      <td>3.0</td>\n",
       "      <td>1.0</td>\n",
       "      <td>0.17</td>\n",
       "      <td>12 Suburban Rd, Worcester, MA, 01602</td>\n",
       "      <td>12 Suburban Rd</td>\n",
       "      <td>Worcester</td>\n",
       "      <td>Massachusetts</td>\n",
       "      <td>1602.0</td>\n",
       "      <td>1500.0</td>\n",
       "      <td>2005-11-29</td>\n",
       "    </tr>\n",
       "  </tbody>\n",
       "</table>\n",
       "</div>"
      ],
      "text/plain": [
       "          status      price  bed  bath  acre_lot  \\\n",
       "220455  for_sale  2900000.0  5.0   4.0      4.20   \n",
       "220505  for_sale   450000.0  3.0   3.0      0.33   \n",
       "227070  for_sale   560000.0  4.0   2.0      0.20   \n",
       "233354  for_sale   650000.0  6.0   4.0      0.15   \n",
       "339024  for_sale   175000.0  4.0   1.0      0.48   \n",
       "341449  for_sale   380000.0  3.0   2.0      0.21   \n",
       "418268  for_sale   374900.0  3.0   1.0      0.27   \n",
       "418274  for_sale   499000.0  6.0   6.0      0.14   \n",
       "424916  for_sale   399900.0  4.0   3.0      0.43   \n",
       "424923  for_sale   339900.0  3.0   1.0      0.17   \n",
       "\n",
       "                                        full_address  \\\n",
       "220455             564 River Rd, Westport, MA, 02790   \n",
       "220505              419 Olney St, Seekonk, MA, 02771   \n",
       "227070      54 Plainfield Ave, Shrewsbury, MA, 01545   \n",
       "233354               12 Cedar Dr, Webster, MA, 01570   \n",
       "339024    560 Country Club Rd, Greenfield, MA, 01301   \n",
       "341449           74 Pondview Dr, Chicopee, MA, 01020   \n",
       "418268            16 Lancaster St, Auburn, MA, 01501   \n",
       "418274  26 Old West Brookfield Rd, Warren, MA, 01083   \n",
       "424916      24 N Main St, West Brookfield, MA, 01585   \n",
       "424923          12 Suburban Rd, Worcester, MA, 01602   \n",
       "\n",
       "                           street             city          state  zip_code  \\\n",
       "220455               564 River Rd         Westport  Massachusetts    2790.0   \n",
       "220505               419 Olney St          Seekonk  Massachusetts    2771.0   \n",
       "227070          54 Plainfield Ave       Shrewsbury  Massachusetts    1545.0   \n",
       "233354                12 Cedar Dr          Webster  Massachusetts    1570.0   \n",
       "339024        560 Country Club Rd       Greenfield  Massachusetts    1301.0   \n",
       "341449             74 Pondview Dr         Chicopee  Massachusetts    1020.0   \n",
       "418268            16 Lancaster St           Auburn  Massachusetts    1501.0   \n",
       "418274  26 Old West Brookfield Rd           Warren  Massachusetts    1083.0   \n",
       "424916               24 N Main St  West Brookfield  Massachusetts    1585.0   \n",
       "424923             12 Suburban Rd        Worcester  Massachusetts    1602.0   \n",
       "\n",
       "        house_size   sold_date  \n",
       "220455      3740.0         NaN  \n",
       "220505      1782.0  1999-12-13  \n",
       "227070      2640.0  1998-09-28  \n",
       "233354      4012.0  1988-08-12  \n",
       "339024      1163.0         NaN  \n",
       "341449      1336.0  2006-03-10  \n",
       "418268      1098.0         NaN  \n",
       "418274      3240.0         NaN  \n",
       "424916      2968.0  2006-07-12  \n",
       "424923      1500.0  2005-11-29  "
      ]
     },
     "execution_count": 21,
     "metadata": {},
     "output_type": "execute_result"
    }
   ],
   "source": [
    "MA_data.tail(10)"
   ]
  },
  {
   "cell_type": "code",
   "execution_count": 22,
   "id": "3463840e",
   "metadata": {},
   "outputs": [],
   "source": [
    "# dropping irrelevant columns\n",
    "\n",
    "MA_data = MA_data.drop(columns=['street', 'full_address'])"
   ]
  },
  {
   "cell_type": "code",
   "execution_count": 23,
   "id": "08fd98ce",
   "metadata": {
    "scrolled": true
   },
   "outputs": [
    {
     "data": {
      "text/html": [
       "<div>\n",
       "<style scoped>\n",
       "    .dataframe tbody tr th:only-of-type {\n",
       "        vertical-align: middle;\n",
       "    }\n",
       "\n",
       "    .dataframe tbody tr th {\n",
       "        vertical-align: top;\n",
       "    }\n",
       "\n",
       "    .dataframe thead th {\n",
       "        text-align: right;\n",
       "    }\n",
       "</style>\n",
       "<table border=\"1\" class=\"dataframe\">\n",
       "  <thead>\n",
       "    <tr style=\"text-align: right;\">\n",
       "      <th></th>\n",
       "      <th>status</th>\n",
       "      <th>price</th>\n",
       "      <th>bed</th>\n",
       "      <th>bath</th>\n",
       "      <th>acre_lot</th>\n",
       "      <th>city</th>\n",
       "      <th>state</th>\n",
       "      <th>zip_code</th>\n",
       "      <th>house_size</th>\n",
       "      <th>sold_date</th>\n",
       "    </tr>\n",
       "  </thead>\n",
       "  <tbody>\n",
       "    <tr>\n",
       "      <th>24231</th>\n",
       "      <td>for_sale</td>\n",
       "      <td>180000.0</td>\n",
       "      <td>2.0</td>\n",
       "      <td>1.0</td>\n",
       "      <td>0.34</td>\n",
       "      <td>Agawam</td>\n",
       "      <td>Massachusetts</td>\n",
       "      <td>1001.0</td>\n",
       "      <td>676.0</td>\n",
       "      <td>NaN</td>\n",
       "    </tr>\n",
       "    <tr>\n",
       "      <th>24233</th>\n",
       "      <td>for_sale</td>\n",
       "      <td>169900.0</td>\n",
       "      <td>2.0</td>\n",
       "      <td>2.0</td>\n",
       "      <td>NaN</td>\n",
       "      <td>Agawam</td>\n",
       "      <td>Massachusetts</td>\n",
       "      <td>1001.0</td>\n",
       "      <td>892.0</td>\n",
       "      <td>2019-04-30</td>\n",
       "    </tr>\n",
       "    <tr>\n",
       "      <th>24234</th>\n",
       "      <td>for_sale</td>\n",
       "      <td>242000.0</td>\n",
       "      <td>2.0</td>\n",
       "      <td>2.0</td>\n",
       "      <td>NaN</td>\n",
       "      <td>Agawam</td>\n",
       "      <td>Massachusetts</td>\n",
       "      <td>1001.0</td>\n",
       "      <td>1428.0</td>\n",
       "      <td>NaN</td>\n",
       "    </tr>\n",
       "    <tr>\n",
       "      <th>24235</th>\n",
       "      <td>for_sale</td>\n",
       "      <td>299950.0</td>\n",
       "      <td>2.0</td>\n",
       "      <td>2.0</td>\n",
       "      <td>NaN</td>\n",
       "      <td>Agawam</td>\n",
       "      <td>Massachusetts</td>\n",
       "      <td>1001.0</td>\n",
       "      <td>1659.0</td>\n",
       "      <td>NaN</td>\n",
       "    </tr>\n",
       "    <tr>\n",
       "      <th>24236</th>\n",
       "      <td>for_sale</td>\n",
       "      <td>239900.0</td>\n",
       "      <td>3.0</td>\n",
       "      <td>1.0</td>\n",
       "      <td>0.46</td>\n",
       "      <td>Agawam</td>\n",
       "      <td>Massachusetts</td>\n",
       "      <td>1001.0</td>\n",
       "      <td>1196.0</td>\n",
       "      <td>NaN</td>\n",
       "    </tr>\n",
       "  </tbody>\n",
       "</table>\n",
       "</div>"
      ],
      "text/plain": [
       "         status     price  bed  bath  acre_lot    city          state  \\\n",
       "24231  for_sale  180000.0  2.0   1.0      0.34  Agawam  Massachusetts   \n",
       "24233  for_sale  169900.0  2.0   2.0       NaN  Agawam  Massachusetts   \n",
       "24234  for_sale  242000.0  2.0   2.0       NaN  Agawam  Massachusetts   \n",
       "24235  for_sale  299950.0  2.0   2.0       NaN  Agawam  Massachusetts   \n",
       "24236  for_sale  239900.0  3.0   1.0      0.46  Agawam  Massachusetts   \n",
       "\n",
       "       zip_code  house_size   sold_date  \n",
       "24231    1001.0       676.0         NaN  \n",
       "24233    1001.0       892.0  2019-04-30  \n",
       "24234    1001.0      1428.0         NaN  \n",
       "24235    1001.0      1659.0         NaN  \n",
       "24236    1001.0      1196.0         NaN  "
      ]
     },
     "execution_count": 23,
     "metadata": {},
     "output_type": "execute_result"
    }
   ],
   "source": [
    "MA_data.head()"
   ]
  },
  {
   "cell_type": "code",
   "execution_count": 25,
   "id": "1411a45a",
   "metadata": {},
   "outputs": [],
   "source": [
    "# changing data type of sold_date to datetime\n",
    "\n",
    "MA_data[\"sold_date\"] = pd.to_datetime(MA_data[\"sold_date\"])"
   ]
  },
  {
   "cell_type": "code",
   "execution_count": 31,
   "id": "44de4e26",
   "metadata": {
    "scrolled": true
   },
   "outputs": [
    {
     "data": {
      "text/plain": [
       "199073   2022-12-01\n",
       "199094   2022-09-30\n",
       "199034   2022-06-01\n",
       "198698   2022-05-31\n",
       "198999   2022-05-30\n",
       "Name: sold_date, dtype: datetime64[ns]"
      ]
     },
     "execution_count": 31,
     "metadata": {},
     "output_type": "execute_result"
    }
   ],
   "source": [
    "# Inspecting the sold_date column\n",
    "\n",
    "MA_data['sold_date'].sort_values(ascending=False).head()"
   ]
  },
  {
   "cell_type": "code",
   "execution_count": 35,
   "id": "e0aa3559",
   "metadata": {
    "scrolled": false
   },
   "outputs": [
    {
     "data": {
      "text/plain": [
       "54624    1901-01-01\n",
       "54619    1910-01-29\n",
       "104272   1952-12-21\n",
       "112812   1955-02-24\n",
       "112534   1957-09-26\n",
       "73394    1961-09-22\n",
       "133856   1963-10-23\n",
       "133673   1963-12-19\n",
       "112765   1964-09-01\n",
       "121913   1965-01-01\n",
       "104119   1965-03-08\n",
       "122588   1966-01-01\n",
       "88844    1966-10-17\n",
       "113328   1967-02-20\n",
       "77742    1968-01-01\n",
       "104181   1968-04-02\n",
       "166780   1968-05-31\n",
       "79920    1968-07-01\n",
       "103218   1970-03-13\n",
       "103800   1971-03-31\n",
       "Name: sold_date, dtype: datetime64[ns]"
      ]
     },
     "execution_count": 35,
     "metadata": {},
     "output_type": "execute_result"
    }
   ],
   "source": [
    "MA_data['sold_date'].sort_values().head(20)"
   ]
  },
  {
   "cell_type": "code",
   "execution_count": 46,
   "id": "ab003c27",
   "metadata": {},
   "outputs": [],
   "source": [
    "# This data was accessed September 12th, 2022. We apparently can't have a future sold date, that is an error.\n",
    "# Also, we would discard data older than year 1960.\n",
    "\n",
    "MA_data1 = MA_data[MA_data['sold_date'] < pd.to_datetime(\"2022-08-31\")]"
   ]
  },
  {
   "cell_type": "code",
   "execution_count": 48,
   "id": "03f84062",
   "metadata": {},
   "outputs": [],
   "source": [
    "MA_data1 = MA_data1[MA_data1['sold_date'] > pd.to_datetime(\"1959-12-31\")]"
   ]
  },
  {
   "cell_type": "code",
   "execution_count": 59,
   "id": "711bc02f",
   "metadata": {
    "scrolled": false
   },
   "outputs": [
    {
     "data": {
      "text/plain": [
       "73394    1961-09-22\n",
       "133856   1963-10-23\n",
       "133673   1963-12-19\n",
       "112765   1964-09-01\n",
       "121913   1965-01-01\n",
       "104119   1965-03-08\n",
       "122588   1966-01-01\n",
       "88844    1966-10-17\n",
       "113328   1967-02-20\n",
       "77742    1968-01-01\n",
       "Name: sold_date, dtype: datetime64[ns]"
      ]
     },
     "execution_count": 59,
     "metadata": {},
     "output_type": "execute_result"
    }
   ],
   "source": [
    "# Checking output\n",
    "\n",
    "MA_data1['sold_date'].sort_values().head(10)\n"
   ]
  },
  {
   "cell_type": "code",
   "execution_count": 62,
   "id": "4e83fcf5",
   "metadata": {},
   "outputs": [
    {
     "data": {
      "text/plain": [
       "(3945, 10)"
      ]
     },
     "execution_count": 62,
     "metadata": {},
     "output_type": "execute_result"
    }
   ],
   "source": [
    "MA_data1.shape"
   ]
  },
  {
   "cell_type": "code",
   "execution_count": 64,
   "id": "75512562",
   "metadata": {},
   "outputs": [
    {
     "data": {
      "text/plain": [
       "status          0\n",
       "price           0\n",
       "bed             0\n",
       "bath            1\n",
       "acre_lot      893\n",
       "city            0\n",
       "state           0\n",
       "zip_code        0\n",
       "house_size      3\n",
       "sold_date       0\n",
       "dtype: int64"
      ]
     },
     "execution_count": 64,
     "metadata": {},
     "output_type": "execute_result"
    }
   ],
   "source": [
    "# checking for missing values\n",
    "\n",
    "MA_data1.isnull().sum()"
   ]
  },
  {
   "cell_type": "code",
   "execution_count": 68,
   "id": "fdb983ba",
   "metadata": {},
   "outputs": [],
   "source": [
    "# I would like to use the actual data for predicting and would rather remove missing records instead of imputing data.\n",
    "\n",
    "MA_data1.dropna(axis = 0, inplace = True)"
   ]
  },
  {
   "cell_type": "code",
   "execution_count": 69,
   "id": "583263da",
   "metadata": {},
   "outputs": [
    {
     "data": {
      "text/plain": [
       "(3048, 10)"
      ]
     },
     "execution_count": 69,
     "metadata": {},
     "output_type": "execute_result"
    }
   ],
   "source": [
    "# checking output\n",
    "\n",
    "MA_data1.shape"
   ]
  },
  {
   "cell_type": "code",
   "execution_count": 71,
   "id": "cda9c7bf",
   "metadata": {},
   "outputs": [],
   "source": [
    "# changing zip code data type from 'float' to 'object'\n",
    "\n",
    "MA_data1['zip_code'] = MA_data1['zip_code'].astype(str)"
   ]
  },
  {
   "cell_type": "code",
   "execution_count": 74,
   "id": "1a7513d4",
   "metadata": {
    "scrolled": true
   },
   "outputs": [
    {
     "data": {
      "text/plain": [
       "Massachusetts    3048\n",
       "Name: state, dtype: int64"
      ]
     },
     "execution_count": 74,
     "metadata": {},
     "output_type": "execute_result"
    }
   ],
   "source": [
    "# confirming that data we're using is only for Massachusetts\n",
    "\n",
    "MA_data1['state'].value_counts(dropna = False)"
   ]
  },
  {
   "cell_type": "code",
   "execution_count": 78,
   "id": "83d97f46",
   "metadata": {},
   "outputs": [],
   "source": [
    "# dropping state column\n",
    "\n",
    "MA_data1.drop(columns = ['state'], inplace = True)\n"
   ]
  },
  {
   "cell_type": "code",
   "execution_count": 86,
   "id": "c7d9842b",
   "metadata": {},
   "outputs": [
    {
     "data": {
      "text/plain": [
       "for_sale    3048\n",
       "Name: status, dtype: int64"
      ]
     },
     "execution_count": 86,
     "metadata": {},
     "output_type": "execute_result"
    }
   ],
   "source": [
    "# checking value count of status column\n",
    "\n",
    "MA_data1['status'].value_counts(dropna = False)"
   ]
  },
  {
   "cell_type": "code",
   "execution_count": 87,
   "id": "b294f5d4",
   "metadata": {},
   "outputs": [],
   "source": [
    "# dropping status column since we have just one unique value, 'for_sale'\n",
    "\n",
    "MA_data1.drop(columns = ['status'], inplace = True)"
   ]
  },
  {
   "cell_type": "code",
   "execution_count": 88,
   "id": "bb960f90",
   "metadata": {},
   "outputs": [
    {
     "data": {
      "text/plain": [
       "(3048, 8)"
      ]
     },
     "execution_count": 88,
     "metadata": {},
     "output_type": "execute_result"
    }
   ],
   "source": [
    "MA_data1.shape"
   ]
  },
  {
   "cell_type": "markdown",
   "id": "296d6b18",
   "metadata": {},
   "source": [
    "### Summary statistics"
   ]
  },
  {
   "cell_type": "code",
   "execution_count": 72,
   "id": "513e676d",
   "metadata": {},
   "outputs": [
    {
     "data": {
      "text/html": [
       "<div>\n",
       "<style scoped>\n",
       "    .dataframe tbody tr th:only-of-type {\n",
       "        vertical-align: middle;\n",
       "    }\n",
       "\n",
       "    .dataframe tbody tr th {\n",
       "        vertical-align: top;\n",
       "    }\n",
       "\n",
       "    .dataframe thead th {\n",
       "        text-align: right;\n",
       "    }\n",
       "</style>\n",
       "<table border=\"1\" class=\"dataframe\">\n",
       "  <thead>\n",
       "    <tr style=\"text-align: right;\">\n",
       "      <th></th>\n",
       "      <th>price</th>\n",
       "      <th>bed</th>\n",
       "      <th>bath</th>\n",
       "      <th>acre_lot</th>\n",
       "      <th>house_size</th>\n",
       "    </tr>\n",
       "  </thead>\n",
       "  <tbody>\n",
       "    <tr>\n",
       "      <th>count</th>\n",
       "      <td>3.048000e+03</td>\n",
       "      <td>3048.000000</td>\n",
       "      <td>3048.000000</td>\n",
       "      <td>3048.000000</td>\n",
       "      <td>3048.000000</td>\n",
       "    </tr>\n",
       "    <tr>\n",
       "      <th>mean</th>\n",
       "      <td>1.059353e+06</td>\n",
       "      <td>3.668963</td>\n",
       "      <td>2.722441</td>\n",
       "      <td>1.387487</td>\n",
       "      <td>2433.718504</td>\n",
       "    </tr>\n",
       "    <tr>\n",
       "      <th>std</th>\n",
       "      <td>1.651959e+06</td>\n",
       "      <td>1.576512</td>\n",
       "      <td>1.615195</td>\n",
       "      <td>8.869902</td>\n",
       "      <td>1765.801508</td>\n",
       "    </tr>\n",
       "    <tr>\n",
       "      <th>min</th>\n",
       "      <td>1.000000e+04</td>\n",
       "      <td>1.000000</td>\n",
       "      <td>1.000000</td>\n",
       "      <td>0.000000</td>\n",
       "      <td>170.000000</td>\n",
       "    </tr>\n",
       "    <tr>\n",
       "      <th>25%</th>\n",
       "      <td>4.299000e+05</td>\n",
       "      <td>3.000000</td>\n",
       "      <td>2.000000</td>\n",
       "      <td>0.140000</td>\n",
       "      <td>1376.750000</td>\n",
       "    </tr>\n",
       "    <tr>\n",
       "      <th>50%</th>\n",
       "      <td>6.150000e+05</td>\n",
       "      <td>3.000000</td>\n",
       "      <td>2.000000</td>\n",
       "      <td>0.300000</td>\n",
       "      <td>1983.500000</td>\n",
       "    </tr>\n",
       "    <tr>\n",
       "      <th>75%</th>\n",
       "      <td>9.499000e+05</td>\n",
       "      <td>4.000000</td>\n",
       "      <td>3.000000</td>\n",
       "      <td>0.710000</td>\n",
       "      <td>2870.000000</td>\n",
       "    </tr>\n",
       "    <tr>\n",
       "      <th>max</th>\n",
       "      <td>2.800000e+07</td>\n",
       "      <td>15.000000</td>\n",
       "      <td>15.000000</td>\n",
       "      <td>298.000000</td>\n",
       "      <td>19311.000000</td>\n",
       "    </tr>\n",
       "  </tbody>\n",
       "</table>\n",
       "</div>"
      ],
      "text/plain": [
       "              price          bed         bath     acre_lot    house_size\n",
       "count  3.048000e+03  3048.000000  3048.000000  3048.000000   3048.000000\n",
       "mean   1.059353e+06     3.668963     2.722441     1.387487   2433.718504\n",
       "std    1.651959e+06     1.576512     1.615195     8.869902   1765.801508\n",
       "min    1.000000e+04     1.000000     1.000000     0.000000    170.000000\n",
       "25%    4.299000e+05     3.000000     2.000000     0.140000   1376.750000\n",
       "50%    6.150000e+05     3.000000     2.000000     0.300000   1983.500000\n",
       "75%    9.499000e+05     4.000000     3.000000     0.710000   2870.000000\n",
       "max    2.800000e+07    15.000000    15.000000   298.000000  19311.000000"
      ]
     },
     "execution_count": 72,
     "metadata": {},
     "output_type": "execute_result"
    }
   ],
   "source": [
    "# Checking the summary statistics of my clean data\n",
    "\n",
    "MA_data1.describe()"
   ]
  },
  {
   "cell_type": "code",
   "execution_count": 82,
   "id": "7532d139",
   "metadata": {},
   "outputs": [
    {
     "data": {
      "text/plain": [
       "0    1201.0\n",
       "Name: zip_code, dtype: object"
      ]
     },
     "execution_count": 82,
     "metadata": {},
     "output_type": "execute_result"
    }
   ],
   "source": [
    "MA_data1['zip_code'].mode()"
   ]
  },
  {
   "cell_type": "code",
   "execution_count": 91,
   "id": "8e3e57ec",
   "metadata": {},
   "outputs": [
    {
     "data": {
      "text/plain": [
       "0    Boston\n",
       "Name: city, dtype: object"
      ]
     },
     "execution_count": 91,
     "metadata": {},
     "output_type": "execute_result"
    }
   ],
   "source": [
    "MA_data1['city'].mode()"
   ]
  },
  {
   "cell_type": "code",
   "execution_count": 89,
   "id": "ed3c9897",
   "metadata": {},
   "outputs": [
    {
     "data": {
      "text/plain": [
       "price          860\n",
       "bed             15\n",
       "bath            15\n",
       "acre_lot       384\n",
       "city           346\n",
       "zip_code       433\n",
       "house_size    1886\n",
       "sold_date     2315\n",
       "dtype: int64"
      ]
     },
     "execution_count": 89,
     "metadata": {},
     "output_type": "execute_result"
    }
   ],
   "source": [
    "# checking number of unique values in all columns of the dataset\n",
    "\n",
    "MA_data1.nunique()"
   ]
  },
  {
   "cell_type": "markdown",
   "id": "685a7422",
   "metadata": {},
   "source": [
    "### Exporting clean data"
   ]
  },
  {
   "cell_type": "code",
   "execution_count": 98,
   "id": "f20fa85c",
   "metadata": {},
   "outputs": [],
   "source": [
    "MA_data1.to_csv(r\"C:\\Users\\tseki\\OneDrive\\Documents\\Careerfoundry\\Data immersion\\Achievement 6\\Data\\Prepared\\MA_clean_data.csv\")"
   ]
  }
 ],
 "metadata": {
  "kernelspec": {
   "display_name": "Python 3 (ipykernel)",
   "language": "python",
   "name": "python3"
  },
  "language_info": {
   "codemirror_mode": {
    "name": "ipython",
    "version": 3
   },
   "file_extension": ".py",
   "mimetype": "text/x-python",
   "name": "python",
   "nbconvert_exporter": "python",
   "pygments_lexer": "ipython3",
   "version": "3.9.12"
  }
 },
 "nbformat": 4,
 "nbformat_minor": 5
}
