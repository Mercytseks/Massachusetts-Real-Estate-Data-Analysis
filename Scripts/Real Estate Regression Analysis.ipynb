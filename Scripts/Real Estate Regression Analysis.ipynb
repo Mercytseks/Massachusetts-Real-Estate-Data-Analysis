{
 "cells": [
  {
   "cell_type": "markdown",
   "id": "77779a85",
   "metadata": {},
   "source": [
    "## Table of content\n",
    "### Importing libraries\n",
    "### Importing data\n",
    "### Stating the hypothesis\n",
    "### Regression analysis"
   ]
  },
  {
   "cell_type": "markdown",
   "id": "944e8ed3",
   "metadata": {},
   "source": [
    "### Importing libraries"
   ]
  },
  {
   "cell_type": "code",
   "execution_count": 47,
   "id": "ef11bc50",
   "metadata": {},
   "outputs": [],
   "source": [
    "import pandas as pd\n",
    "import numpy as np\n",
    "import seaborn as sns\n",
    "import matplotlib\n",
    "import matplotlib.pyplot as plt\n",
    "import os\n",
    "import sklearn\n",
    "from sklearn.model_selection import train_test_split \n",
    "from sklearn.linear_model import LinearRegression\n",
    "from sklearn.metrics import mean_squared_error, r2_score\n",
    "from sklearn.metrics import mean_absolute_error"
   ]
  },
  {
   "cell_type": "code",
   "execution_count": 2,
   "id": "3520f6e9",
   "metadata": {},
   "outputs": [],
   "source": [
    "# This oensures that the graphs you create are displayed within the notebook without the need to \"call\" them specifically.\n",
    "\n",
    "%matplotlib inline"
   ]
  },
  {
   "cell_type": "markdown",
   "id": "67679bd1",
   "metadata": {},
   "source": [
    "### Importing data"
   ]
  },
  {
   "cell_type": "code",
   "execution_count": 4,
   "id": "2b72d501",
   "metadata": {},
   "outputs": [],
   "source": [
    "# Creating path\n",
    "\n",
    "path = r\"C:\\Users\\tseki\\OneDrive\\Documents\\Careerfoundry\\Data immersion\\Achievement 6\""
   ]
  },
  {
   "cell_type": "code",
   "execution_count": 5,
   "id": "b60735bd",
   "metadata": {},
   "outputs": [],
   "source": [
    "data = pd.read_csv(os.path.join(path, 'Data', 'Prepared', 'data_merge.csv'), index_col = [0])"
   ]
  },
  {
   "cell_type": "code",
   "execution_count": 6,
   "id": "5c491215",
   "metadata": {},
   "outputs": [
    {
     "data": {
      "text/html": [
       "<div>\n",
       "<style scoped>\n",
       "    .dataframe tbody tr th:only-of-type {\n",
       "        vertical-align: middle;\n",
       "    }\n",
       "\n",
       "    .dataframe tbody tr th {\n",
       "        vertical-align: top;\n",
       "    }\n",
       "\n",
       "    .dataframe thead th {\n",
       "        text-align: right;\n",
       "    }\n",
       "</style>\n",
       "<table border=\"1\" class=\"dataframe\">\n",
       "  <thead>\n",
       "    <tr style=\"text-align: right;\">\n",
       "      <th></th>\n",
       "      <th>price</th>\n",
       "      <th>bed</th>\n",
       "      <th>bath</th>\n",
       "      <th>acre_lot</th>\n",
       "      <th>city</th>\n",
       "      <th>zip_code</th>\n",
       "      <th>house_size</th>\n",
       "      <th>sold_date</th>\n",
       "      <th>county</th>\n",
       "    </tr>\n",
       "  </thead>\n",
       "  <tbody>\n",
       "    <tr>\n",
       "      <th>0</th>\n",
       "      <td>525000.0</td>\n",
       "      <td>3.0</td>\n",
       "      <td>3.0</td>\n",
       "      <td>0.45</td>\n",
       "      <td>Agawam</td>\n",
       "      <td>1001.0</td>\n",
       "      <td>2314.0</td>\n",
       "      <td>2014-06-25</td>\n",
       "      <td>Hampden</td>\n",
       "    </tr>\n",
       "    <tr>\n",
       "      <th>1</th>\n",
       "      <td>289900.0</td>\n",
       "      <td>3.0</td>\n",
       "      <td>2.0</td>\n",
       "      <td>0.36</td>\n",
       "      <td>Agawam</td>\n",
       "      <td>1001.0</td>\n",
       "      <td>1276.0</td>\n",
       "      <td>2012-10-12</td>\n",
       "      <td>Hampden</td>\n",
       "    </tr>\n",
       "    <tr>\n",
       "      <th>2</th>\n",
       "      <td>384900.0</td>\n",
       "      <td>3.0</td>\n",
       "      <td>2.0</td>\n",
       "      <td>0.46</td>\n",
       "      <td>Agawam</td>\n",
       "      <td>1001.0</td>\n",
       "      <td>1476.0</td>\n",
       "      <td>1986-11-20</td>\n",
       "      <td>Hampden</td>\n",
       "    </tr>\n",
       "    <tr>\n",
       "      <th>3</th>\n",
       "      <td>199999.0</td>\n",
       "      <td>3.0</td>\n",
       "      <td>2.0</td>\n",
       "      <td>1.76</td>\n",
       "      <td>Agawam</td>\n",
       "      <td>1001.0</td>\n",
       "      <td>1968.0</td>\n",
       "      <td>2008-09-19</td>\n",
       "      <td>Hampden</td>\n",
       "    </tr>\n",
       "    <tr>\n",
       "      <th>4</th>\n",
       "      <td>419000.0</td>\n",
       "      <td>4.0</td>\n",
       "      <td>2.0</td>\n",
       "      <td>2.00</td>\n",
       "      <td>Pelham</td>\n",
       "      <td>1002.0</td>\n",
       "      <td>1607.0</td>\n",
       "      <td>2005-07-25</td>\n",
       "      <td>Hampshire</td>\n",
       "    </tr>\n",
       "  </tbody>\n",
       "</table>\n",
       "</div>"
      ],
      "text/plain": [
       "      price  bed  bath  acre_lot    city  zip_code  house_size   sold_date  \\\n",
       "0  525000.0  3.0   3.0      0.45  Agawam    1001.0      2314.0  2014-06-25   \n",
       "1  289900.0  3.0   2.0      0.36  Agawam    1001.0      1276.0  2012-10-12   \n",
       "2  384900.0  3.0   2.0      0.46  Agawam    1001.0      1476.0  1986-11-20   \n",
       "3  199999.0  3.0   2.0      1.76  Agawam    1001.0      1968.0  2008-09-19   \n",
       "4  419000.0  4.0   2.0      2.00  Pelham    1002.0      1607.0  2005-07-25   \n",
       "\n",
       "      county  \n",
       "0    Hampden  \n",
       "1    Hampden  \n",
       "2    Hampden  \n",
       "3    Hampden  \n",
       "4  Hampshire  "
      ]
     },
     "execution_count": 6,
     "metadata": {},
     "output_type": "execute_result"
    }
   ],
   "source": [
    "data.head()"
   ]
  },
  {
   "cell_type": "markdown",
   "id": "c5af0e7a",
   "metadata": {},
   "source": [
    "### Stating the Hypothesis "
   ]
  },
  {
   "cell_type": "code",
   "execution_count": 7,
   "id": "adef6019",
   "metadata": {},
   "outputs": [],
   "source": [
    "# i would like to further explore the relationship between bath vs prices and house_size vs prices. \n"
   ]
  },
  {
   "cell_type": "code",
   "execution_count": 9,
   "id": "e74b47f8",
   "metadata": {},
   "outputs": [
    {
     "data": {
      "image/png": "[encoded data removed]",
      "text/plain": [
       "<Figure size 432x288 with 1 Axes>"
      ]
     },
     "metadata": {
      "needs_background": "light"
     },
     "output_type": "display_data"
    }
   ],
   "source": [
    "# Creating a scatterplot using matplotlib for another look at how the chosen variables plot against each other.\n",
    "\n",
    "data.plot(x = 'bath', y='price', style='o') # The style option creates a scatterplot; without it, we only have lines.\n",
    "plt.title('Number of baths vs House price')  \n",
    "plt.xlabel('Bath')  \n",
    "plt.ylabel('Price')  \n",
    "plt.show()"
   ]
  },
  {
   "cell_type": "code",
   "execution_count": 11,
   "id": "b636daf9",
   "metadata": {},
   "outputs": [
    {
     "data": {
      "image/png": "[encoded data removed]",
      "text/plain": [
       "<Figure size 432x288 with 1 Axes>"
      ]
     },
     "metadata": {
      "needs_background": "light"
     },
     "output_type": "display_data"
    }
   ],
   "source": [
    "data.plot(x = 'house_size', y='price', style='o')\n",
    "plt.title('House size vs House price')  \n",
    "plt.xlabel('House_size')  \n",
    "plt.ylabel('Price')  \n",
    "plt.show()"
   ]
  },
  {
   "cell_type": "markdown",
   "id": "991c264f",
   "metadata": {},
   "source": [
    "#### Hypothesis 1: the higher the number of baths, the higher the price of the house.\n",
    "#### Hypothesis 2: the bigger the size of the house, the higher the price of the house."
   ]
  },
  {
   "cell_type": "markdown",
   "id": "9f118b54",
   "metadata": {},
   "source": [
    "### Regression analysis-Hypothesis 1"
   ]
  },
  {
   "cell_type": "markdown",
   "id": "fcf8d729",
   "metadata": {},
   "source": [
    "#### Data prep"
   ]
  },
  {
   "cell_type": "code",
   "execution_count": 19,
   "id": "f2e21a5f",
   "metadata": {},
   "outputs": [],
   "source": [
    "# Reshape the variables into NumPy arrays and put them into separate objects.\n",
    "\n",
    "X1 = data['bath'].values.reshape(-1,1)\n",
    "y1 = data['price'].values.reshape(-1,1)"
   ]
  },
  {
   "cell_type": "code",
   "execution_count": 20,
   "id": "6465090c",
   "metadata": {},
   "outputs": [
    {
     "data": {
      "text/plain": [
       "array([[3.],\n",
       "       [2.],\n",
       "       [2.],\n",
       "       ...,\n",
       "       [2.],\n",
       "       [3.],\n",
       "       [1.]])"
      ]
     },
     "execution_count": 20,
     "metadata": {},
     "output_type": "execute_result"
    }
   ],
   "source": [
    "X1"
   ]
  },
  {
   "cell_type": "code",
   "execution_count": 21,
   "id": "57e9a972",
   "metadata": {},
   "outputs": [
    {
     "data": {
      "text/plain": [
       "array([[525000.],\n",
       "       [289900.],\n",
       "       [384900.],\n",
       "       ...,\n",
       "       [380000.],\n",
       "       [399900.],\n",
       "       [339900.]])"
      ]
     },
     "execution_count": 21,
     "metadata": {},
     "output_type": "execute_result"
    }
   ],
   "source": [
    "y1"
   ]
  },
  {
   "cell_type": "code",
   "execution_count": 22,
   "id": "b904377a",
   "metadata": {},
   "outputs": [],
   "source": [
    "# Spliting data into a training set and a test set.\n",
    "\n",
    "X1_train, X1_test, y1_train, y1_test = train_test_split(X1, y1, test_size=0.3, random_state=0)"
   ]
  },
  {
   "cell_type": "markdown",
   "id": "840f1971",
   "metadata": {},
   "source": [
    "#### Regression analysis"
   ]
  },
  {
   "cell_type": "code",
   "execution_count": 23,
   "id": "e70649a5",
   "metadata": {},
   "outputs": [],
   "source": [
    "# Creating a regression object.\n",
    "\n",
    "regression = LinearRegression()  # This is the regression object, which will be fit onto the training set."
   ]
  },
  {
   "cell_type": "code",
   "execution_count": 24,
   "id": "d44edfcb",
   "metadata": {},
   "outputs": [
    {
     "data": {
      "text/plain": [
       "LinearRegression()"
      ]
     },
     "execution_count": 24,
     "metadata": {},
     "output_type": "execute_result"
    }
   ],
   "source": [
    "# Fitting the regression object onto the training set.\n",
    "\n",
    "regression.fit(X1_train, y1_train)"
   ]
  },
  {
   "cell_type": "code",
   "execution_count": 25,
   "id": "1610d563",
   "metadata": {},
   "outputs": [],
   "source": [
    "# Predicting the values of y1 using X1.\n",
    "\n",
    "y1_predicted = regression.predict(X1_test)"
   ]
  },
  {
   "cell_type": "code",
   "execution_count": 26,
   "id": "c3cfb654",
   "metadata": {},
   "outputs": [
    {
     "data": {
      "image/png": "[encoded data removed]",
      "text/plain": [
       "<Figure size 432x288 with 1 Axes>"
      ]
     },
     "metadata": {
      "needs_background": "light"
     },
     "output_type": "display_data"
    }
   ],
   "source": [
    "# Creating a plot that shows the regression line from the model on the test set.\n",
    "\n",
    "plot_test = plt\n",
    "plot_test.scatter(X1_test, y1_test, color='gray', s = 15)\n",
    "plot_test.plot(X1_test, y1_predicted, color='red', linewidth =3)\n",
    "plot_test.title('Number of baths vs House price')\n",
    "plot_test.xlabel('Bath')\n",
    "plot_test.ylabel('Price')\n",
    "plot_test.show()"
   ]
  },
  {
   "cell_type": "code",
   "execution_count": 50,
   "id": "62eb0591",
   "metadata": {},
   "outputs": [],
   "source": [
    "# Creating objects that contain the model summary statistics.\n",
    "\n",
    "RMSE = (mean_squared_error(y1_test, y1_predicted, squared = False)) # This is the root mean squared error\n",
    "r2 = r2_score(y1_test, y1_predicted) # This is the R2 score.\n",
    "MAE = mean_absolute_error(y1_test, y1_predicted) # this is the mean absolute error"
   ]
  },
  {
   "cell_type": "code",
   "execution_count": 51,
   "id": "3c1d3c50",
   "metadata": {},
   "outputs": [
    {
     "name": "stdout",
     "output_type": "stream",
     "text": [
      "Slope: [[584.97714556]]\n",
      "Root Mean squared error:  1428402.071353225\n",
      "R2 score:  0.39106899545689966\n",
      "Mean_absolute_error: 653657.0206524339\n"
     ]
    }
   ],
   "source": [
    "# Print the model summary statistics to evaluate the performance of the model.\n",
    "\n",
    "print('Slope:' ,regression.coef_)\n",
    "print('Root Mean squared error: ', rmse)\n",
    "print('R2 score: ', r2)\n",
    "print ('Mean_absolute_error:', MAE)"
   ]
  },
  {
   "cell_type": "markdown",
   "id": "c1aa8ef4",
   "metadata": {},
   "source": [
    "#### The slope confirms there's a positive relationship between  the variables. However, R2 of  0.39 is low and shows that the variance between the model and the actual values is high. Also, a mean absolute error of 653,657 means that on average, the predicted value is off by 653,657 from the actual value. This is outrageous. Performing a multiple regression analysis or trying other models might improve the performance."
   ]
  },
  {
   "cell_type": "code",
   "execution_count": 29,
   "id": "9dc75164",
   "metadata": {},
   "outputs": [
    {
     "data": {
      "text/html": [
       "<div>\n",
       "<style scoped>\n",
       "    .dataframe tbody tr th:only-of-type {\n",
       "        vertical-align: middle;\n",
       "    }\n",
       "\n",
       "    .dataframe tbody tr th {\n",
       "        vertical-align: top;\n",
       "    }\n",
       "\n",
       "    .dataframe thead th {\n",
       "        text-align: right;\n",
       "    }\n",
       "</style>\n",
       "<table border=\"1\" class=\"dataframe\">\n",
       "  <thead>\n",
       "    <tr style=\"text-align: right;\">\n",
       "      <th></th>\n",
       "      <th>Actual</th>\n",
       "      <th>Predicted</th>\n",
       "    </tr>\n",
       "  </thead>\n",
       "  <tbody>\n",
       "    <tr>\n",
       "      <th>0</th>\n",
       "      <td>269900.0</td>\n",
       "      <td>1.217347e+06</td>\n",
       "    </tr>\n",
       "    <tr>\n",
       "      <th>1</th>\n",
       "      <td>799900.0</td>\n",
       "      <td>5.771719e+05</td>\n",
       "    </tr>\n",
       "    <tr>\n",
       "      <th>2</th>\n",
       "      <td>799900.0</td>\n",
       "      <td>1.217347e+06</td>\n",
       "    </tr>\n",
       "    <tr>\n",
       "      <th>3</th>\n",
       "      <td>1300000.0</td>\n",
       "      <td>1.217347e+06</td>\n",
       "    </tr>\n",
       "    <tr>\n",
       "      <th>4</th>\n",
       "      <td>1395000.0</td>\n",
       "      <td>2.497698e+06</td>\n",
       "    </tr>\n",
       "    <tr>\n",
       "      <th>5</th>\n",
       "      <td>789000.0</td>\n",
       "      <td>-6.300347e+04</td>\n",
       "    </tr>\n",
       "    <tr>\n",
       "      <th>6</th>\n",
       "      <td>549000.0</td>\n",
       "      <td>-6.300347e+04</td>\n",
       "    </tr>\n",
       "    <tr>\n",
       "      <th>7</th>\n",
       "      <td>2890000.0</td>\n",
       "      <td>3.137873e+06</td>\n",
       "    </tr>\n",
       "    <tr>\n",
       "      <th>8</th>\n",
       "      <td>425000.0</td>\n",
       "      <td>-6.300347e+04</td>\n",
       "    </tr>\n",
       "    <tr>\n",
       "      <th>9</th>\n",
       "      <td>449900.0</td>\n",
       "      <td>5.771719e+05</td>\n",
       "    </tr>\n",
       "    <tr>\n",
       "      <th>10</th>\n",
       "      <td>1049000.0</td>\n",
       "      <td>2.497698e+06</td>\n",
       "    </tr>\n",
       "    <tr>\n",
       "      <th>11</th>\n",
       "      <td>839500.0</td>\n",
       "      <td>5.771719e+05</td>\n",
       "    </tr>\n",
       "    <tr>\n",
       "      <th>12</th>\n",
       "      <td>449000.0</td>\n",
       "      <td>5.771719e+05</td>\n",
       "    </tr>\n",
       "    <tr>\n",
       "      <th>13</th>\n",
       "      <td>600000.0</td>\n",
       "      <td>5.771719e+05</td>\n",
       "    </tr>\n",
       "    <tr>\n",
       "      <th>14</th>\n",
       "      <td>239900.0</td>\n",
       "      <td>-6.300347e+04</td>\n",
       "    </tr>\n",
       "    <tr>\n",
       "      <th>15</th>\n",
       "      <td>15000000.0</td>\n",
       "      <td>3.137873e+06</td>\n",
       "    </tr>\n",
       "    <tr>\n",
       "      <th>16</th>\n",
       "      <td>139900.0</td>\n",
       "      <td>-6.300347e+04</td>\n",
       "    </tr>\n",
       "    <tr>\n",
       "      <th>17</th>\n",
       "      <td>1349900.0</td>\n",
       "      <td>1.217347e+06</td>\n",
       "    </tr>\n",
       "    <tr>\n",
       "      <th>18</th>\n",
       "      <td>2425000.0</td>\n",
       "      <td>5.771719e+05</td>\n",
       "    </tr>\n",
       "    <tr>\n",
       "      <th>19</th>\n",
       "      <td>2700000.0</td>\n",
       "      <td>3.137873e+06</td>\n",
       "    </tr>\n",
       "    <tr>\n",
       "      <th>20</th>\n",
       "      <td>15500000.0</td>\n",
       "      <td>6.978925e+06</td>\n",
       "    </tr>\n",
       "    <tr>\n",
       "      <th>21</th>\n",
       "      <td>1975000.0</td>\n",
       "      <td>5.771719e+05</td>\n",
       "    </tr>\n",
       "    <tr>\n",
       "      <th>22</th>\n",
       "      <td>499000.0</td>\n",
       "      <td>5.771719e+05</td>\n",
       "    </tr>\n",
       "    <tr>\n",
       "      <th>23</th>\n",
       "      <td>899000.0</td>\n",
       "      <td>1.217347e+06</td>\n",
       "    </tr>\n",
       "    <tr>\n",
       "      <th>24</th>\n",
       "      <td>679900.0</td>\n",
       "      <td>5.771719e+05</td>\n",
       "    </tr>\n",
       "    <tr>\n",
       "      <th>25</th>\n",
       "      <td>480000.0</td>\n",
       "      <td>-6.300347e+04</td>\n",
       "    </tr>\n",
       "    <tr>\n",
       "      <th>26</th>\n",
       "      <td>599000.0</td>\n",
       "      <td>5.771719e+05</td>\n",
       "    </tr>\n",
       "    <tr>\n",
       "      <th>27</th>\n",
       "      <td>249900.0</td>\n",
       "      <td>5.771719e+05</td>\n",
       "    </tr>\n",
       "    <tr>\n",
       "      <th>28</th>\n",
       "      <td>549000.0</td>\n",
       "      <td>5.771719e+05</td>\n",
       "    </tr>\n",
       "    <tr>\n",
       "      <th>29</th>\n",
       "      <td>439900.0</td>\n",
       "      <td>1.217347e+06</td>\n",
       "    </tr>\n",
       "  </tbody>\n",
       "</table>\n",
       "</div>"
      ],
      "text/plain": [
       "        Actual     Predicted\n",
       "0     269900.0  1.217347e+06\n",
       "1     799900.0  5.771719e+05\n",
       "2     799900.0  1.217347e+06\n",
       "3    1300000.0  1.217347e+06\n",
       "4    1395000.0  2.497698e+06\n",
       "5     789000.0 -6.300347e+04\n",
       "6     549000.0 -6.300347e+04\n",
       "7    2890000.0  3.137873e+06\n",
       "8     425000.0 -6.300347e+04\n",
       "9     449900.0  5.771719e+05\n",
       "10   1049000.0  2.497698e+06\n",
       "11    839500.0  5.771719e+05\n",
       "12    449000.0  5.771719e+05\n",
       "13    600000.0  5.771719e+05\n",
       "14    239900.0 -6.300347e+04\n",
       "15  15000000.0  3.137873e+06\n",
       "16    139900.0 -6.300347e+04\n",
       "17   1349900.0  1.217347e+06\n",
       "18   2425000.0  5.771719e+05\n",
       "19   2700000.0  3.137873e+06\n",
       "20  15500000.0  6.978925e+06\n",
       "21   1975000.0  5.771719e+05\n",
       "22    499000.0  5.771719e+05\n",
       "23    899000.0  1.217347e+06\n",
       "24    679900.0  5.771719e+05\n",
       "25    480000.0 -6.300347e+04\n",
       "26    599000.0  5.771719e+05\n",
       "27    249900.0  5.771719e+05\n",
       "28    549000.0  5.771719e+05\n",
       "29    439900.0  1.217347e+06"
      ]
     },
     "execution_count": 29,
     "metadata": {},
     "output_type": "execute_result"
    }
   ],
   "source": [
    "# Creating a dataframe comparing the actual and predicted values of y1.\n",
    "\n",
    "df = pd.DataFrame({'Actual': y1_test.flatten(), 'Predicted': y1_predicted.flatten()})\n",
    "df.head(30)"
   ]
  },
  {
   "cell_type": "markdown",
   "id": "9043bfcc",
   "metadata": {},
   "source": [
    "### Regression analysis- hypothesis 2"
   ]
  },
  {
   "cell_type": "markdown",
   "id": "dca5d404",
   "metadata": {},
   "source": [
    "#### Data prep"
   ]
  },
  {
   "cell_type": "code",
   "execution_count": 30,
   "id": "dfe5c9ee",
   "metadata": {},
   "outputs": [],
   "source": [
    "# Reshape the variables into NumPy arrays and put them into separate objects.\n",
    "\n",
    "X2 = data['house_size'].values.reshape(-1,1)\n",
    "y2 = data['price'].values.reshape(-1,1)"
   ]
  },
  {
   "cell_type": "code",
   "execution_count": 31,
   "id": "03305844",
   "metadata": {},
   "outputs": [
    {
     "data": {
      "text/plain": [
       "array([[2314.],\n",
       "       [1276.],\n",
       "       [1476.],\n",
       "       ...,\n",
       "       [1336.],\n",
       "       [2968.],\n",
       "       [1500.]])"
      ]
     },
     "execution_count": 31,
     "metadata": {},
     "output_type": "execute_result"
    }
   ],
   "source": [
    "X2"
   ]
  },
  {
   "cell_type": "code",
   "execution_count": 32,
   "id": "89d9ea2c",
   "metadata": {},
   "outputs": [
    {
     "data": {
      "text/plain": [
       "array([[525000.],\n",
       "       [289900.],\n",
       "       [384900.],\n",
       "       ...,\n",
       "       [380000.],\n",
       "       [399900.],\n",
       "       [339900.]])"
      ]
     },
     "execution_count": 32,
     "metadata": {},
     "output_type": "execute_result"
    }
   ],
   "source": [
    "y2"
   ]
  },
  {
   "cell_type": "code",
   "execution_count": 33,
   "id": "9b69c02f",
   "metadata": {},
   "outputs": [],
   "source": [
    "# Spliting data into a training set and a test set.\n",
    "\n",
    "X2_train, X2_test, y2_train, y2_test = train_test_split(X2, y2, test_size=0.3, random_state=0)"
   ]
  },
  {
   "cell_type": "markdown",
   "id": "1130349d",
   "metadata": {},
   "source": [
    "#### Regression analysis"
   ]
  },
  {
   "cell_type": "code",
   "execution_count": 34,
   "id": "d7af9405",
   "metadata": {},
   "outputs": [],
   "source": [
    "# Creating a regression object.\n",
    "\n",
    "regression = LinearRegression()  # This is the regression object, which will be fit onto the training set."
   ]
  },
  {
   "cell_type": "code",
   "execution_count": 35,
   "id": "26f9100d",
   "metadata": {},
   "outputs": [
    {
     "data": {
      "text/plain": [
       "LinearRegression()"
      ]
     },
     "execution_count": 35,
     "metadata": {},
     "output_type": "execute_result"
    }
   ],
   "source": [
    "# fitting the regression object onto the training set\n",
    "\n",
    "regression.fit(X2_train, y2_train)"
   ]
  },
  {
   "cell_type": "code",
   "execution_count": 37,
   "id": "6eca65aa",
   "metadata": {},
   "outputs": [],
   "source": [
    "# Predicting y2 based on x2_test\n",
    "\n",
    "y2_predicted = regression.predict(X2_test)"
   ]
  },
  {
   "cell_type": "code",
   "execution_count": 38,
   "id": "54087834",
   "metadata": {},
   "outputs": [
    {
     "data": {
      "image/png": "[encoded data removed]",
      "text/plain": [
       "<Figure size 432x288 with 1 Axes>"
      ]
     },
     "metadata": {
      "needs_background": "light"
     },
     "output_type": "display_data"
    }
   ],
   "source": [
    "# Creating a plot that shows the regression line from the model on the test set.\n",
    "\n",
    "plot_test = plt\n",
    "plot_test.scatter(X2_test, y2_test, color='gray', s = 15)\n",
    "plot_test.plot(X2_test, y2_predicted, color='red', linewidth =3)\n",
    "plot_test.title('House size vs House price')\n",
    "plot_test.xlabel('House size')\n",
    "plot_test.ylabel('Price')\n",
    "plot_test.show()"
   ]
  },
  {
   "cell_type": "code",
   "execution_count": 52,
   "id": "c6041d07",
   "metadata": {},
   "outputs": [],
   "source": [
    "# Creating objects that contain the model summary statistics.\n",
    "\n",
    "RMSE = (mean_squared_error(y2_test, y2_predicted, squared = False)) # This is the root mean squared error\n",
    "r2 = r2_score(y2_test, y2_predicted) # This is the R2 score.\n",
    "MAE = mean_absolute_error(y2_test, y2_predicted) # this is the mean absolute error "
   ]
  },
  {
   "cell_type": "code",
   "execution_count": 54,
   "id": "126fbe1a",
   "metadata": {},
   "outputs": [
    {
     "name": "stdout",
     "output_type": "stream",
     "text": [
      "Slope: [[584.97714556]]\n",
      "Mean squared error:  1478849.0200351004\n",
      "R2 score:  0.34729818483350794\n",
      "Mean absolute error:  627687.7103049036\n"
     ]
    }
   ],
   "source": [
    "# Print the model summary statistics to evaluate the performance of the model.\n",
    "\n",
    "print('Slope:' ,regression.coef_)\n",
    "print('Mean squared error: ', RMSE)\n",
    "print('R2 score: ', r2)\n",
    "print('Mean absolute error: ', MAE)"
   ]
  },
  {
   "cell_type": "markdown",
   "id": "7a36769e",
   "metadata": {},
   "source": [
    "#### The slope confirms there's a positive relationship between  the variables. However, R2 of 0.34 is lower than 0.39 even though the mean absolute error of 627,687 is slightly better than for hypothesis 1, it is still not helpful. Though the performance of the model isn't satisfactory, i won't be quick to discard my hypothesis instead i will suggest trying other models."
   ]
  },
  {
   "cell_type": "code",
   "execution_count": 41,
   "id": "f784240d",
   "metadata": {},
   "outputs": [
    {
     "data": {
      "text/html": [
       "<div>\n",
       "<style scoped>\n",
       "    .dataframe tbody tr th:only-of-type {\n",
       "        vertical-align: middle;\n",
       "    }\n",
       "\n",
       "    .dataframe tbody tr th {\n",
       "        vertical-align: top;\n",
       "    }\n",
       "\n",
       "    .dataframe thead th {\n",
       "        text-align: right;\n",
       "    }\n",
       "</style>\n",
       "<table border=\"1\" class=\"dataframe\">\n",
       "  <thead>\n",
       "    <tr style=\"text-align: right;\">\n",
       "      <th></th>\n",
       "      <th>Actual</th>\n",
       "      <th>Predicted</th>\n",
       "    </tr>\n",
       "  </thead>\n",
       "  <tbody>\n",
       "    <tr>\n",
       "      <th>0</th>\n",
       "      <td>269900.0</td>\n",
       "      <td>4.489225e+05</td>\n",
       "    </tr>\n",
       "    <tr>\n",
       "      <th>1</th>\n",
       "      <td>799900.0</td>\n",
       "      <td>5.284794e+05</td>\n",
       "    </tr>\n",
       "    <tr>\n",
       "      <th>2</th>\n",
       "      <td>799900.0</td>\n",
       "      <td>1.071338e+06</td>\n",
       "    </tr>\n",
       "    <tr>\n",
       "      <th>3</th>\n",
       "      <td>1300000.0</td>\n",
       "      <td>1.621802e+06</td>\n",
       "    </tr>\n",
       "    <tr>\n",
       "      <th>4</th>\n",
       "      <td>1395000.0</td>\n",
       "      <td>1.511241e+06</td>\n",
       "    </tr>\n",
       "    <tr>\n",
       "      <th>5</th>\n",
       "      <td>789000.0</td>\n",
       "      <td>2.172716e+05</td>\n",
       "    </tr>\n",
       "    <tr>\n",
       "      <th>6</th>\n",
       "      <td>549000.0</td>\n",
       "      <td>5.390090e+05</td>\n",
       "    </tr>\n",
       "    <tr>\n",
       "      <th>7</th>\n",
       "      <td>2890000.0</td>\n",
       "      <td>2.195664e+06</td>\n",
       "    </tr>\n",
       "    <tr>\n",
       "      <th>8</th>\n",
       "      <td>425000.0</td>\n",
       "      <td>3.155478e+05</td>\n",
       "    </tr>\n",
       "    <tr>\n",
       "      <th>9</th>\n",
       "      <td>449900.0</td>\n",
       "      <td>3.670257e+05</td>\n",
       "    </tr>\n",
       "    <tr>\n",
       "      <th>10</th>\n",
       "      <td>1049000.0</td>\n",
       "      <td>1.097077e+06</td>\n",
       "    </tr>\n",
       "    <tr>\n",
       "      <th>11</th>\n",
       "      <td>839500.0</td>\n",
       "      <td>1.049560e+05</td>\n",
       "    </tr>\n",
       "    <tr>\n",
       "      <th>12</th>\n",
       "      <td>449000.0</td>\n",
       "      <td>2.055721e+05</td>\n",
       "    </tr>\n",
       "    <tr>\n",
       "      <th>13</th>\n",
       "      <td>600000.0</td>\n",
       "      <td>1.466783e+06</td>\n",
       "    </tr>\n",
       "    <tr>\n",
       "      <th>14</th>\n",
       "      <td>239900.0</td>\n",
       "      <td>4.097291e+05</td>\n",
       "    </tr>\n",
       "    <tr>\n",
       "      <th>15</th>\n",
       "      <td>15000000.0</td>\n",
       "      <td>2.382857e+06</td>\n",
       "    </tr>\n",
       "    <tr>\n",
       "      <th>16</th>\n",
       "      <td>139900.0</td>\n",
       "      <td>1.119757e+05</td>\n",
       "    </tr>\n",
       "    <tr>\n",
       "      <th>17</th>\n",
       "      <td>1349900.0</td>\n",
       "      <td>1.484917e+06</td>\n",
       "    </tr>\n",
       "    <tr>\n",
       "      <th>18</th>\n",
       "      <td>2425000.0</td>\n",
       "      <td>6.548345e+05</td>\n",
       "    </tr>\n",
       "    <tr>\n",
       "      <th>19</th>\n",
       "      <td>2700000.0</td>\n",
       "      <td>3.314726e+06</td>\n",
       "    </tr>\n",
       "    <tr>\n",
       "      <th>20</th>\n",
       "      <td>15500000.0</td>\n",
       "      <td>7.819635e+06</td>\n",
       "    </tr>\n",
       "    <tr>\n",
       "      <th>21</th>\n",
       "      <td>1975000.0</td>\n",
       "      <td>9.192442e+05</td>\n",
       "    </tr>\n",
       "    <tr>\n",
       "      <th>22</th>\n",
       "      <td>499000.0</td>\n",
       "      <td>8.853155e+05</td>\n",
       "    </tr>\n",
       "    <tr>\n",
       "      <th>23</th>\n",
       "      <td>899000.0</td>\n",
       "      <td>1.078358e+06</td>\n",
       "    </tr>\n",
       "    <tr>\n",
       "      <th>24</th>\n",
       "      <td>679900.0</td>\n",
       "      <td>4.161638e+05</td>\n",
       "    </tr>\n",
       "    <tr>\n",
       "      <th>25</th>\n",
       "      <td>480000.0</td>\n",
       "      <td>2.868839e+05</td>\n",
       "    </tr>\n",
       "    <tr>\n",
       "      <th>26</th>\n",
       "      <td>599000.0</td>\n",
       "      <td>6.852533e+05</td>\n",
       "    </tr>\n",
       "    <tr>\n",
       "      <th>27</th>\n",
       "      <td>249900.0</td>\n",
       "      <td>3.664408e+05</td>\n",
       "    </tr>\n",
       "    <tr>\n",
       "      <th>28</th>\n",
       "      <td>549000.0</td>\n",
       "      <td>5.782025e+05</td>\n",
       "    </tr>\n",
       "    <tr>\n",
       "      <th>29</th>\n",
       "      <td>439900.0</td>\n",
       "      <td>6.571744e+05</td>\n",
       "    </tr>\n",
       "  </tbody>\n",
       "</table>\n",
       "</div>"
      ],
      "text/plain": [
       "        Actual     Predicted\n",
       "0     269900.0  4.489225e+05\n",
       "1     799900.0  5.284794e+05\n",
       "2     799900.0  1.071338e+06\n",
       "3    1300000.0  1.621802e+06\n",
       "4    1395000.0  1.511241e+06\n",
       "5     789000.0  2.172716e+05\n",
       "6     549000.0  5.390090e+05\n",
       "7    2890000.0  2.195664e+06\n",
       "8     425000.0  3.155478e+05\n",
       "9     449900.0  3.670257e+05\n",
       "10   1049000.0  1.097077e+06\n",
       "11    839500.0  1.049560e+05\n",
       "12    449000.0  2.055721e+05\n",
       "13    600000.0  1.466783e+06\n",
       "14    239900.0  4.097291e+05\n",
       "15  15000000.0  2.382857e+06\n",
       "16    139900.0  1.119757e+05\n",
       "17   1349900.0  1.484917e+06\n",
       "18   2425000.0  6.548345e+05\n",
       "19   2700000.0  3.314726e+06\n",
       "20  15500000.0  7.819635e+06\n",
       "21   1975000.0  9.192442e+05\n",
       "22    499000.0  8.853155e+05\n",
       "23    899000.0  1.078358e+06\n",
       "24    679900.0  4.161638e+05\n",
       "25    480000.0  2.868839e+05\n",
       "26    599000.0  6.852533e+05\n",
       "27    249900.0  3.664408e+05\n",
       "28    549000.0  5.782025e+05\n",
       "29    439900.0  6.571744e+05"
      ]
     },
     "execution_count": 41,
     "metadata": {},
     "output_type": "execute_result"
    }
   ],
   "source": [
    "# Creating a dataframe comparing the actual and predicted values of y1.\n",
    "\n",
    "df1 = pd.DataFrame({'Actual': y2_test.flatten(), 'Predicted': y2_predicted.flatten()})\n",
    "df1.head(30)"
   ]
  },
  {
   "cell_type": "code",
   "execution_count": null,
   "id": "780b4c59",
   "metadata": {},
   "outputs": [],
   "source": []
  }
 ],
 "metadata": {
  "kernelspec": {
   "display_name": "Python 3 (ipykernel)",
   "language": "python",
   "name": "python3"
  },
  "language_info": {
   "codemirror_mode": {
    "name": "ipython",
    "version": 3
   },
   "file_extension": ".py",
   "mimetype": "text/x-python",
   "name": "python",
   "nbconvert_exporter": "python",
   "pygments_lexer": "ipython3",
   "version": "3.9.12"
  }
 },
 "nbformat": 4,
 "nbformat_minor": 5
}
